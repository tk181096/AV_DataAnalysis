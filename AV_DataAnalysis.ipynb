{
 "cells": [
  {
   "cell_type": "markdown",
   "metadata": {},
   "source": [
    "# MP1: CS 498 DSG (Spring 2020)\n",
    "##### Tafseer Khan\n"
   ]
  },
  {
   "cell_type": "markdown",
   "metadata": {},
   "source": [
    "# Task 0 – Getting to know the analysis environment\n",
    "## Question 1- Import csv data into jupyter notebook"
   ]
  },
  {
   "cell_type": "code",
   "execution_count": 1,
   "metadata": {},
   "outputs": [],
   "source": [
    "import pandas as pd \n",
    "import seaborn as sns\n",
    "import numpy as np  \n",
    "import datetime\n",
    "from scipy import stats as st\n",
    "from statsmodels.stats import weightstats as stests"
   ]
  },
  {
   "cell_type": "code",
   "execution_count": 2,
   "metadata": {},
   "outputs": [],
   "source": [
    "disf=pd.read_csv('mp1_av_disengagements.csv')\n",
    "disf['Month']=pd.to_datetime(disf['Month'],format='%y-%b')\n"
   ]
  },
  {
   "cell_type": "code",
   "execution_count": 3,
   "metadata": {},
   "outputs": [],
   "source": [
    "milesf=pd.read_csv('mp1_av_totalmiles.csv')\n",
    "milesf['Month']=pd.to_datetime(milesf['Month'],format='%y-%b')"
   ]
  },
  {
   "cell_type": "code",
   "execution_count": 4,
   "metadata": {},
   "outputs": [
    {
     "data": {
      "text/html": [
       "<div>\n",
       "<style scoped>\n",
       "    .dataframe tbody tr th:only-of-type {\n",
       "        vertical-align: middle;\n",
       "    }\n",
       "\n",
       "    .dataframe tbody tr th {\n",
       "        vertical-align: top;\n",
       "    }\n",
       "\n",
       "    .dataframe thead th {\n",
       "        text-align: right;\n",
       "    }\n",
       "</style>\n",
       "<table border=\"1\" class=\"dataframe\">\n",
       "  <thead>\n",
       "    <tr style=\"text-align: right;\">\n",
       "      <th></th>\n",
       "      <th>Month</th>\n",
       "      <th>Car</th>\n",
       "      <th>Location</th>\n",
       "      <th>Weather</th>\n",
       "      <th>TypeOfTrigger</th>\n",
       "      <th>ReactionTime</th>\n",
       "      <th>Cause</th>\n",
       "    </tr>\n",
       "  </thead>\n",
       "  <tbody>\n",
       "    <tr>\n",
       "      <th>0</th>\n",
       "      <td>2014-09-01</td>\n",
       "      <td>WDD2221851A001072</td>\n",
       "      <td>urban-street</td>\n",
       "      <td>cloudy</td>\n",
       "      <td>automatic</td>\n",
       "      <td>0.58</td>\n",
       "      <td>Incorrect Traffic Light Detection</td>\n",
       "    </tr>\n",
       "    <tr>\n",
       "      <th>1</th>\n",
       "      <td>2014-09-01</td>\n",
       "      <td>WDD2221851A001072</td>\n",
       "      <td>urban-street</td>\n",
       "      <td>cloudy</td>\n",
       "      <td>automatic</td>\n",
       "      <td>0.66</td>\n",
       "      <td>Adverse road surface conditions</td>\n",
       "    </tr>\n",
       "    <tr>\n",
       "      <th>2</th>\n",
       "      <td>2014-09-01</td>\n",
       "      <td>WDD2221851A001072</td>\n",
       "      <td>urban-street</td>\n",
       "      <td>cloudy</td>\n",
       "      <td>automatic</td>\n",
       "      <td>1.93</td>\n",
       "      <td>Position Estimation Failure</td>\n",
       "    </tr>\n",
       "    <tr>\n",
       "      <th>3</th>\n",
       "      <td>2014-09-01</td>\n",
       "      <td>WDD2221851A001072</td>\n",
       "      <td>urban-street</td>\n",
       "      <td>cloudy</td>\n",
       "      <td>automatic</td>\n",
       "      <td>0.65</td>\n",
       "      <td>Emergency Vehicle</td>\n",
       "    </tr>\n",
       "    <tr>\n",
       "      <th>4</th>\n",
       "      <td>2014-09-01</td>\n",
       "      <td>WDD2221851A001072</td>\n",
       "      <td>urban-street</td>\n",
       "      <td>cloudy</td>\n",
       "      <td>automatic</td>\n",
       "      <td>0.64</td>\n",
       "      <td>Adverse road surface conditions</td>\n",
       "    </tr>\n",
       "  </tbody>\n",
       "</table>\n",
       "</div>"
      ],
      "text/plain": [
       "       Month                Car      Location Weather TypeOfTrigger  \\\n",
       "0 2014-09-01  WDD2221851A001072  urban-street  cloudy     automatic   \n",
       "1 2014-09-01  WDD2221851A001072  urban-street  cloudy     automatic   \n",
       "2 2014-09-01  WDD2221851A001072  urban-street  cloudy     automatic   \n",
       "3 2014-09-01  WDD2221851A001072  urban-street  cloudy     automatic   \n",
       "4 2014-09-01  WDD2221851A001072  urban-street  cloudy     automatic   \n",
       "\n",
       "   ReactionTime                              Cause  \n",
       "0          0.58  Incorrect Traffic Light Detection  \n",
       "1          0.66    Adverse road surface conditions  \n",
       "2          1.93        Position Estimation Failure  \n",
       "3          0.65                  Emergency Vehicle  \n",
       "4          0.64    Adverse road surface conditions  "
      ]
     },
     "execution_count": 4,
     "metadata": {},
     "output_type": "execute_result"
    }
   ],
   "source": [
    "disf.head()"
   ]
  },
  {
   "cell_type": "code",
   "execution_count": 5,
   "metadata": {},
   "outputs": [
    {
     "data": {
      "text/html": [
       "<div>\n",
       "<style scoped>\n",
       "    .dataframe tbody tr th:only-of-type {\n",
       "        vertical-align: middle;\n",
       "    }\n",
       "\n",
       "    .dataframe tbody tr th {\n",
       "        vertical-align: top;\n",
       "    }\n",
       "\n",
       "    .dataframe thead th {\n",
       "        text-align: right;\n",
       "    }\n",
       "</style>\n",
       "<table border=\"1\" class=\"dataframe\">\n",
       "  <thead>\n",
       "    <tr style=\"text-align: right;\">\n",
       "      <th></th>\n",
       "      <th>Month</th>\n",
       "      <th>Car</th>\n",
       "      <th>miles driven in autonomous mode</th>\n",
       "      <th>total number of disengagements</th>\n",
       "      <th>number of automatic disengagements</th>\n",
       "      <th>number of manual disengagements</th>\n",
       "    </tr>\n",
       "  </thead>\n",
       "  <tbody>\n",
       "    <tr>\n",
       "      <th>0</th>\n",
       "      <td>2014-09-01</td>\n",
       "      <td>WDD2221851A001072</td>\n",
       "      <td>4207</td>\n",
       "      <td>44</td>\n",
       "      <td>24</td>\n",
       "      <td>20</td>\n",
       "    </tr>\n",
       "    <tr>\n",
       "      <th>1</th>\n",
       "      <td>2014-10-01</td>\n",
       "      <td>WDD2221851A001072</td>\n",
       "      <td>23971</td>\n",
       "      <td>228</td>\n",
       "      <td>100</td>\n",
       "      <td>128</td>\n",
       "    </tr>\n",
       "    <tr>\n",
       "      <th>2</th>\n",
       "      <td>2014-11-01</td>\n",
       "      <td>WDD2221851A001072</td>\n",
       "      <td>15837</td>\n",
       "      <td>141</td>\n",
       "      <td>66</td>\n",
       "      <td>75</td>\n",
       "    </tr>\n",
       "    <tr>\n",
       "      <th>3</th>\n",
       "      <td>2014-12-01</td>\n",
       "      <td>WDD2221851A001072</td>\n",
       "      <td>9413</td>\n",
       "      <td>36</td>\n",
       "      <td>15</td>\n",
       "      <td>21</td>\n",
       "    </tr>\n",
       "    <tr>\n",
       "      <th>4</th>\n",
       "      <td>2015-01-01</td>\n",
       "      <td>WDD2221851A001072</td>\n",
       "      <td>18192</td>\n",
       "      <td>48</td>\n",
       "      <td>18</td>\n",
       "      <td>30</td>\n",
       "    </tr>\n",
       "  </tbody>\n",
       "</table>\n",
       "</div>"
      ],
      "text/plain": [
       "       Month                Car  miles driven in autonomous mode  \\\n",
       "0 2014-09-01  WDD2221851A001072                             4207   \n",
       "1 2014-10-01  WDD2221851A001072                            23971   \n",
       "2 2014-11-01  WDD2221851A001072                            15837   \n",
       "3 2014-12-01  WDD2221851A001072                             9413   \n",
       "4 2015-01-01  WDD2221851A001072                            18192   \n",
       "\n",
       "   total number of disengagements  number of automatic disengagements  \\\n",
       "0                              44                                  24   \n",
       "1                             228                                 100   \n",
       "2                             141                                  66   \n",
       "3                              36                                  15   \n",
       "4                              48                                  18   \n",
       "\n",
       "   number of manual disengagements  \n",
       "0                               20  \n",
       "1                              128  \n",
       "2                               75  \n",
       "3                               21  \n",
       "4                               30  "
      ]
     },
     "execution_count": 5,
     "metadata": {},
     "output_type": "execute_result"
    }
   ],
   "source": [
    "milesf.head()"
   ]
  },
  {
   "cell_type": "markdown",
   "metadata": {},
   "source": [
    "##  Question 2. Summarize the following information\n",
    "### a. Total number of AV disengagements over the entire duration of available data\n",
    "$$P(DPM){\\rm{  =  }}{{{\\rm{Total Number of Diseng}}} \\over {{\\rm{Total Number of miles}}}}$$"
   ]
  },
  {
   "cell_type": "code",
   "execution_count": 6,
   "metadata": {},
   "outputs": [
    {
     "data": {
      "text/plain": [
       "1024"
      ]
     },
     "execution_count": 6,
     "metadata": {},
     "output_type": "execute_result"
    }
   ],
   "source": [
    "sum(milesf['total number of disengagements'])"
   ]
  },
  {
   "cell_type": "markdown",
   "metadata": {},
   "source": [
    "### b. Number of unique months that have recorded AV disengagements"
   ]
  },
  {
   "cell_type": "code",
   "execution_count": 7,
   "metadata": {},
   "outputs": [
    {
     "data": {
      "text/plain": [
       "15"
      ]
     },
     "execution_count": 7,
     "metadata": {},
     "output_type": "execute_result"
    }
   ],
   "source": [
    "milesf.Month.unique()\n",
    "len(milesf.Month.unique())"
   ]
  },
  {
   "cell_type": "code",
   "execution_count": 8,
   "metadata": {},
   "outputs": [
    {
     "data": {
      "text/html": [
       "<div>\n",
       "<style scoped>\n",
       "    .dataframe tbody tr th:only-of-type {\n",
       "        vertical-align: middle;\n",
       "    }\n",
       "\n",
       "    .dataframe tbody tr th {\n",
       "        vertical-align: top;\n",
       "    }\n",
       "\n",
       "    .dataframe thead th {\n",
       "        text-align: right;\n",
       "    }\n",
       "</style>\n",
       "<table border=\"1\" class=\"dataframe\">\n",
       "  <thead>\n",
       "    <tr style=\"text-align: right;\">\n",
       "      <th></th>\n",
       "      <th>Month</th>\n",
       "      <th>Car</th>\n",
       "      <th>Location</th>\n",
       "      <th>Weather</th>\n",
       "      <th>TypeOfTrigger</th>\n",
       "      <th>ReactionTime</th>\n",
       "      <th>Cause</th>\n",
       "    </tr>\n",
       "  </thead>\n",
       "  <tbody>\n",
       "    <tr>\n",
       "      <th>0</th>\n",
       "      <td>2014-09-01</td>\n",
       "      <td>WDD2221851A001072</td>\n",
       "      <td>urban-street</td>\n",
       "      <td>cloudy</td>\n",
       "      <td>automatic</td>\n",
       "      <td>0.58</td>\n",
       "      <td>Incorrect Traffic Light Detection</td>\n",
       "    </tr>\n",
       "    <tr>\n",
       "      <th>1</th>\n",
       "      <td>2014-09-01</td>\n",
       "      <td>WDD2221851A001072</td>\n",
       "      <td>urban-street</td>\n",
       "      <td>cloudy</td>\n",
       "      <td>automatic</td>\n",
       "      <td>0.66</td>\n",
       "      <td>Adverse road surface conditions</td>\n",
       "    </tr>\n",
       "    <tr>\n",
       "      <th>2</th>\n",
       "      <td>2014-09-01</td>\n",
       "      <td>WDD2221851A001072</td>\n",
       "      <td>urban-street</td>\n",
       "      <td>cloudy</td>\n",
       "      <td>automatic</td>\n",
       "      <td>1.93</td>\n",
       "      <td>Position Estimation Failure</td>\n",
       "    </tr>\n",
       "    <tr>\n",
       "      <th>3</th>\n",
       "      <td>2014-09-01</td>\n",
       "      <td>WDD2221851A001072</td>\n",
       "      <td>urban-street</td>\n",
       "      <td>cloudy</td>\n",
       "      <td>automatic</td>\n",
       "      <td>0.65</td>\n",
       "      <td>Emergency Vehicle</td>\n",
       "    </tr>\n",
       "    <tr>\n",
       "      <th>4</th>\n",
       "      <td>2014-09-01</td>\n",
       "      <td>WDD2221851A001072</td>\n",
       "      <td>urban-street</td>\n",
       "      <td>cloudy</td>\n",
       "      <td>automatic</td>\n",
       "      <td>0.64</td>\n",
       "      <td>Adverse road surface conditions</td>\n",
       "    </tr>\n",
       "  </tbody>\n",
       "</table>\n",
       "</div>"
      ],
      "text/plain": [
       "       Month                Car      Location Weather TypeOfTrigger  \\\n",
       "0 2014-09-01  WDD2221851A001072  urban-street  cloudy     automatic   \n",
       "1 2014-09-01  WDD2221851A001072  urban-street  cloudy     automatic   \n",
       "2 2014-09-01  WDD2221851A001072  urban-street  cloudy     automatic   \n",
       "3 2014-09-01  WDD2221851A001072  urban-street  cloudy     automatic   \n",
       "4 2014-09-01  WDD2221851A001072  urban-street  cloudy     automatic   \n",
       "\n",
       "   ReactionTime                              Cause  \n",
       "0          0.58  Incorrect Traffic Light Detection  \n",
       "1          0.66    Adverse road surface conditions  \n",
       "2          1.93        Position Estimation Failure  \n",
       "3          0.65                  Emergency Vehicle  \n",
       "4          0.64    Adverse road surface conditions  "
      ]
     },
     "execution_count": 8,
     "metadata": {},
     "output_type": "execute_result"
    }
   ],
   "source": [
    "disf.head()"
   ]
  },
  {
   "cell_type": "markdown",
   "metadata": {},
   "source": [
    "### c. List of unique locations of AV disengagements"
   ]
  },
  {
   "cell_type": "code",
   "execution_count": 9,
   "metadata": {},
   "outputs": [
    {
     "data": {
      "text/plain": [
       "array(['urban-street', 'highway'], dtype=object)"
      ]
     },
     "execution_count": 9,
     "metadata": {},
     "output_type": "execute_result"
    }
   ],
   "source": [
    "disf.Location.unique()"
   ]
  },
  {
   "cell_type": "markdown",
   "metadata": {},
   "source": [
    "### d. Number of unique causes for AV disengagements"
   ]
  },
  {
   "cell_type": "code",
   "execution_count": 10,
   "metadata": {},
   "outputs": [
    {
     "data": {
      "text/plain": [
       "10"
      ]
     },
     "execution_count": 10,
     "metadata": {},
     "output_type": "execute_result"
    }
   ],
   "source": [
    "disf.Cause.nunique()"
   ]
  },
  {
   "cell_type": "markdown",
   "metadata": {},
   "source": [
    "### e. Which columns in the datasets (if any) have missing values? How many missing values do these column(s) have? (NAs (not valid entries) commonly occur in real world datasets…)"
   ]
  },
  {
   "cell_type": "code",
   "execution_count": 11,
   "metadata": {},
   "outputs": [
    {
     "data": {
      "text/plain": [
       "ReactionTime    532\n",
       "dtype: int64"
      ]
     },
     "execution_count": 11,
     "metadata": {},
     "output_type": "execute_result"
    }
   ],
   "source": [
    "null_columns=disf.columns[disf.isnull().any()] #Check for null values in dataset\n",
    "disf[null_columns].isnull().sum()      "
   ]
  },
  {
   "cell_type": "code",
   "execution_count": 12,
   "metadata": {},
   "outputs": [
    {
     "data": {
      "text/plain": [
       "Index(['ReactionTime'], dtype='object')"
      ]
     },
     "execution_count": 12,
     "metadata": {},
     "output_type": "execute_result"
    }
   ],
   "source": [
    "disf.columns[disf.isnull().any()]"
   ]
  },
  {
   "cell_type": "markdown",
   "metadata": {},
   "source": [
    "## Question 3: Plot a pie chart for the causes of AV disengagement. Based on the pie-chart, list the top 2 leading causes of disengagement?"
   ]
  },
  {
   "cell_type": "code",
   "execution_count": 13,
   "metadata": {},
   "outputs": [
    {
     "name": "stderr",
     "output_type": "stream",
     "text": [
      "C:\\Anaconda3\\lib\\site-packages\\ipykernel_launcher.py:13: UserWarning: You have mixed positional and keyword arguments, some input may be discarded.\n",
      "  del sys.path[0]\n"
     ]
    },
    {
     "data": {
      "image/png": "[encoded data removed]",
      "text/plain": [
       "<Figure size 864x576 with 1 Axes>"
      ]
     },
     "metadata": {},
     "output_type": "display_data"
    }
   ],
   "source": [
    "import matplotlib\n",
    "import matplotlib.pyplot as plt\n",
    "matplotlib.rcParams['figure.figsize'] = [12.0, 8.0]\n",
    "import matplotlib as mpl\n",
    "mpl.rcParams['font.size'] = 20.0\n",
    "causes = disf['Cause'].value_counts()\n",
    "\n",
    "patches, texts, _ = plt.pie(causes, \n",
    "        # grab labels from frame keys\n",
    "        labels=causes.keys(),\n",
    "        # some formatting\n",
    "        autopct='%1.2f%%', shadow=True)\n",
    "plt.legend(patches, labels=causes.keys(), bbox_to_anchor=(1.025,1.725),loc=\"upper left\")\n",
    "#plt.axis('equal',fontsize=40)\n",
    "plt.show()"
   ]
  },
  {
   "cell_type": "markdown",
   "metadata": {},
   "source": [
    "#### According to the pie chart the top 2 leading causes of disengagement are Unwanted Driver Discomfort & Recklessly behaving agent"
   ]
  },
  {
   "cell_type": "code",
   "execution_count": 14,
   "metadata": {},
   "outputs": [
    {
     "data": {
      "text/plain": [
       "Unwanted Driver Discomfort                 128\n",
       "Recklessly behaving agent                  124\n",
       "Incorrect behavior prediction of others    109\n",
       "Hardware Fault                             104\n",
       "System Tuning and Calibration              102\n",
       "Software Froze                              98\n",
       "Emergency Vehicle                           98\n",
       "Incorrect Traffic Light Detection           96\n",
       "Adverse road surface conditions             85\n",
       "Position Estimation Failure                 80\n",
       "Name: Cause, dtype: int64"
      ]
     },
     "execution_count": 14,
     "metadata": {},
     "output_type": "execute_result"
    }
   ],
   "source": [
    "causes = disf['Cause'].value_counts() #verifying the plot \n",
    "causes"
   ]
  },
  {
   "cell_type": "markdown",
   "metadata": {
    "scrolled": true
   },
   "source": [
    "## Question 4. Visualize the trend of disengagement/mile over time with monthly granularity. How would you describe the trend? Are AV’s maturing over time?"
   ]
  },
  {
   "cell_type": "code",
   "execution_count": 15,
   "metadata": {},
   "outputs": [
    {
     "data": {
      "text/plain": [
       "Text(0.5, 1.0, 'Trend')"
      ]
     },
     "execution_count": 15,
     "metadata": {},
     "output_type": "execute_result"
    },
    {
     "data": {
      "image/png": "[encoded data removed]",
      "text/plain": [
       "<Figure size 720x360 with 1 Axes>"
      ]
     },
     "metadata": {
      "needs_background": "light"
     },
     "output_type": "display_data"
    }
   ],
   "source": [
    "trend = milesf.groupby('Month').sum().reset_index()\n",
    "trend['disengagement per mile'] = trend['total number of disengagements']/trend['miles driven in autonomous mode']\n",
    "ax = trend.plot(x='Month',y='disengagement per mile',figsize=(10,5), linewidth=5, fontsize=20,legend=False)\n",
    "ax.set_xlabel('Time (month)', fontsize=15)\n",
    "ax.set_ylabel('disengagement per mile', fontsize=15)\n",
    "ax.set_title('Trend', fontsize=20)"
   ]
  },
  {
   "cell_type": "markdown",
   "metadata": {},
   "source": [
    "                           AV disnengagements are reducing with time."
   ]
  },
  {
   "cell_type": "markdown",
   "metadata": {},
   "source": [
    "# Task 1- Basic Analysis of AV Disengagements"
   ]
  },
  {
   "cell_type": "markdown",
   "metadata": {},
   "source": [
    "## Quesiton 1- What do the following distributions signify about samples drawn from it?"
   ]
  },
  {
   "cell_type": "markdown",
   "metadata": {},
   "source": [
    "### a. Gaussian distribution"
   ]
  },
  {
   "cell_type": "markdown",
   "metadata": {},
   "source": [
    "PDF: ${\\displaystyle f(x\\mid \\mu ,\\sigma ^{2})={\\frac {1}{\\sqrt {2\\pi \\sigma ^{2}}}}e^{-{\\frac {(x-\\mu )^{2}}{2\\sigma ^{2}}}}}$\n",
    "\n",
    "Normal distributions are mostly used in natural and social sciences to represent real-valued random variables whose distributions are not known. Their importance is partly due to the central limit theorem. It states that, under some conditions, the average of many samples\\of a random variable with finite mean and variance is itself a random variable whose distribution tends towards a normal distribution as the number of samples increases. \n",
    "This distribution also known as the “Bell Curve”. And because of the following features it is highly appreciated by the data scientists.\n",
    "1-The mean, median and mode of normal distribution are equal plus it is symmetric around the  mean.\n",
    "2-The curve is dependent on the mean and standard distribution of their data and it is very dense at the center and less dense at the tails.\n",
    "3-Appoximately 95% of the area of the curve is within 2 standard deviations of the mean\n"
   ]
  },
  {
   "cell_type": "markdown",
   "metadata": {},
   "source": [
    "### b. Exponential Distribution"
   ]
  },
  {
   "cell_type": "markdown",
   "metadata": {},
   "source": [
    "PDF: $ f(x;\\lambda) = \\begin{cases}\n",
    "\\lambda e^{-\\lambda x} & x \\ge 0, \\\\\n",
    "0 & x < 0.\n",
    "\\end{cases}$\n",
    "\n",
    "The exponential distribution occurs naturally when describing the lengths of the inter-arrival times in a homogeneous Poisson process.\n",
    "The exponential distribution describes the amount of time between occurrences. \n",
    "E[X] is given by 1/ λ where λ Exponential Distribution .\n",
    "Which means that as λ gets larger the less is the time between occurrences.\n",
    "For Poisson equation, Exponential Distribution  is useful to model the random arrival pattern \n"
   ]
  },
  {
   "cell_type": "markdown",
   "metadata": {},
   "source": [
    "### c. Weibull distribution\n"
   ]
  },
  {
   "cell_type": "markdown",
   "metadata": {},
   "source": [
    "$\n",
    "{\\displaystyle f(x;\\lambda ,k)={\\begin{cases}{\\frac {k}{\\lambda }}\\left({\\frac {x}{\\lambda }}\\right)^{k-1}e^{-(x/\\lambda )^{k}}&x\\geq 0,\\\\0&x<0,\\end{cases}}}$\n",
    "\n",
    "It is widely used in life like systems for the data analysis.\n",
    "It has 2 parameters, 1- Beta as shape parameter and second is N a scale parameter.\n",
    "If beta is less than 1, the probailty density tends to infinity at time ~zero\n",
    "If beta is equal to 1 the graph the failure rate is fairly constant.\n",
    "If beta is greater than 1 the failures rate increases as time increases.\n"
   ]
  },
  {
   "cell_type": "markdown",
   "metadata": {},
   "source": [
    "## Question 2 - If the AV suddenly disengages, there may not be enough time for the human to react.It is also possible, that the human is not sufficiently attentive while in the AV becauseof reliance on the technology. To understand the human alertness level, we measure the reaction time of the human driver in the field. Plot the probability distribution of reaction times. Does this distribution fit any known distributions (Gaussian, Weibull, Exponential)? What does the fit distribution signify?"
   ]
  },
  {
   "cell_type": "code",
   "execution_count": 16,
   "metadata": {},
   "outputs": [
    {
     "name": "stderr",
     "output_type": "stream",
     "text": [
      "C:\\Anaconda3\\lib\\site-packages\\ipykernel_launcher.py:2: MatplotlibDeprecationWarning: \n",
      "The 'normed' kwarg was deprecated in Matplotlib 2.1 and will be removed in 3.1. Use 'density' instead.\n",
      "  \n",
      "C:\\Anaconda3\\lib\\site-packages\\numpy\\lib\\histograms.py:839: RuntimeWarning: invalid value encountered in greater_equal\n",
      "  keep = (tmp_a >= first_edge)\n",
      "C:\\Anaconda3\\lib\\site-packages\\numpy\\lib\\histograms.py:840: RuntimeWarning: invalid value encountered in less_equal\n",
      "  keep &= (tmp_a <= last_edge)\n"
     ]
    },
    {
     "data": {
      "text/plain": [
       "Text(0.5, 1.0, 'Distribution of Reaction Times')"
      ]
     },
     "execution_count": 16,
     "metadata": {},
     "output_type": "execute_result"
    },
    {
     "data": {
      "image/png": "[encoded data removed]",
      "text/plain": [
       "<Figure size 864x576 with 1 Axes>"
      ]
     },
     "metadata": {
      "needs_background": "light"
     },
     "output_type": "display_data"
    }
   ],
   "source": [
    "x = disf['ReactionTime']\n",
    "plt.hist(x, normed=True, bins=100)\n",
    "plt.xlabel('Reaction time')\n",
    "plt.ylabel('Frequency')\n",
    "plt.title('Distribution of Reaction Times')"
   ]
  },
  {
   "cell_type": "markdown",
   "metadata": {},
   "source": [
    "According to the plot it can be inferred that the distribution follows weibul distribution which shows that the probability of the reaction time being high for human beings is very low."
   ]
  },
  {
   "cell_type": "markdown",
   "metadata": {},
   "source": [
    "## Question 3 -  Compute the average reaction time"
   ]
  },
  {
   "cell_type": "markdown",
   "metadata": {},
   "source": [
    "### a. For the entire duration of the dataset"
   ]
  },
  {
   "cell_type": "code",
   "execution_count": 17,
   "metadata": {},
   "outputs": [
    {
     "name": "stdout",
     "output_type": "stream",
     "text": [
      "0.9297703252032521\n"
     ]
    }
   ],
   "source": [
    "avg_reaction_time = disf['ReactionTime'].mean()\n",
    "print(avg_reaction_time)"
   ]
  },
  {
   "cell_type": "markdown",
   "metadata": {},
   "source": [
    "### b. For the entire duration of the dataset differentiated by the location of disengagement"
   ]
  },
  {
   "cell_type": "code",
   "execution_count": 18,
   "metadata": {},
   "outputs": [
    {
     "name": "stdout",
     "output_type": "stream",
     "text": [
      "Location\n",
      "highway         1.48000\n",
      "urban-street    0.92865\n",
      "Name: ReactionTime, dtype: float64\n"
     ]
    }
   ],
   "source": [
    "avg_reaction_time = disf.groupby('Location')['ReactionTime'].mean()\n",
    "print(avg_reaction_time)"
   ]
  },
  {
   "cell_type": "markdown",
   "metadata": {},
   "source": [
    "## Question 4 - It is known that the mean reaction time for humans in non-AV cars is 1.09 seconds. Is the mean reaction time for humans in AV cars different from non-AV cars? Perform a hypothesis testing at a 0.05 significance level."
   ]
  },
  {
   "cell_type": "code",
   "execution_count": 19,
   "metadata": {},
   "outputs": [
    {
     "name": "stdout",
     "output_type": "stream",
     "text": [
      "t-statistic = -2.099 \n",
      "p-value = 0.036.\n",
      "Reaction time for humans in AV cars is different from non-AV cars.\n"
     ]
    }
   ],
   "source": [
    "reaction_time = list(disf[disf['ReactionTime'].notnull()]['ReactionTime'])\n",
    "one_sample = st.ttest_1samp(reaction_time, 1.09)\n",
    "print(\"t-statistic = %.3f \\np-value = %.3f.\" % one_sample)\n",
    "if one_sample[1] < 0.05:\n",
    "    print(\"Reaction time for humans in AV cars is different from non-AV cars.\")\n",
    "else:\n",
    "    print(\"Reaction time for humans in AV cars is not different from non-AV cars.\")"
   ]
  },
  {
   "cell_type": "markdown",
   "metadata": {},
   "source": [
    "## Question 5 - Plot the probability distribution of disengagements/mile with monthly granularity. Does this distribution fit any known distributions (Gaussian, Weibull, Exponential)? What does the distribution that fits signify?"
   ]
  },
  {
   "cell_type": "code",
   "execution_count": 20,
   "metadata": {},
   "outputs": [
    {
     "data": {
      "text/plain": [
       "Text(0.5, 1.0, 'Distribution of Disengagement per Mile')"
      ]
     },
     "execution_count": 20,
     "metadata": {},
     "output_type": "execute_result"
    },
    {
     "data": {
      "image/png": "[encoded data removed]",
      "text/plain": [
       "<Figure size 864x576 with 1 Axes>"
      ]
     },
     "metadata": {
      "needs_background": "light"
     },
     "output_type": "display_data"
    }
   ],
   "source": [
    "#ax = sns.kdeplot(milesf['diss/miles'])\n",
    "trend['disengagement per mile'].plot(kind='hist',bins=40)\n",
    "plt.xlabel('Disengagement')\n",
    "plt.ylabel('Frequency')\n",
    "plt.title('Distribution of Disengagement per Mile', fontsize=20)"
   ]
  },
  {
   "cell_type": "markdown",
   "metadata": {},
   "source": [
    "The distribution mostly fits an exponential distribution. The disengagement per mile is decreasing continuously expect for a few values which are rising. These values can be considered as outliers. We will be able to have a much better idea of the fit with a larger dataset."
   ]
  },
  {
   "cell_type": "markdown",
   "metadata": {},
   "source": [
    "# Task 2 - Probabilistic Analysis of AV Disengagement\n",
    "## Question 1\n",
    "\n",
    "### a. \n",
    "The assumption on maximum number of disengagements in a mile allows us to treat the occurrence of a disengagement in a mile as a random variable with a **bernoulli distribution**."
   ]
  },
  {
   "cell_type": "markdown",
   "metadata": {},
   "source": [
    "### b. Based on the above assumptions, calculate the probability of disengagement per mile on a cloudy day.\n",
    "$$P(dpm){\\rm{  =  }}{{{\\rm{Total Diseng}}} \\over {{\\rm{Total miles}}}}$$\n",
    "\n",
    "Using Bayes Theorem,\n",
    "\n",
    "$$P(dpm|cloudy) = {{P(cloudy|dpm)P(dpm)} \\over {P(cloudy)}}$$"
   ]
  },
  {
   "cell_type": "code",
   "execution_count": 21,
   "metadata": {},
   "outputs": [
    {
     "name": "stdout",
     "output_type": "stream",
     "text": [
      "P(dpm|cloudy): 0.00590255677552725\n"
     ]
    }
   ],
   "source": [
    "total_diseng = milesf['total number of disengagements'].sum()\n",
    "miles_drives= milesf['miles driven in autonomous mode'].sum()\n",
    "prob_dis= total_diseng/miles_drives\n",
    "#print(\"P(dpm):\",prob_dis)\n",
    "prob_cloudy = 1-0.72  #Given prob clear weather is 0.72\n",
    "cloudy = disf['Weather']=='cloudy'\n",
    "prob_dpm_cloudy = (sum(cloudy) / len(disf)) * prob_dis / prob_cloudy\n",
    "print(\"P(dpm|cloudy):\",prob_dpm_cloudy)"
   ]
  },
  {
   "cell_type": "markdown",
   "metadata": {},
   "source": [
    "### c.  Based on the above assumptions, calculate the probability of disengagement per mile on a clear day.\n",
    "Using Bayes theorem,\n",
    "$$P(dpm|clear) = {{P(clear|dpm)P(dpm)} \\over {P(clear)}}$$"
   ]
  },
  {
   "cell_type": "code",
   "execution_count": 22,
   "metadata": {},
   "outputs": [
    {
     "name": "stdout",
     "output_type": "stream",
     "text": [
      "P(dpm|clear):  0.0005195663748517999\n"
     ]
    }
   ],
   "source": [
    "clear= ~cloudy\n",
    "prob_dpm_clear =(sum(clear)/len(disf))*prob_dis/0.72\n",
    "print(\"P(dpm|clear): \",prob_dpm_clear)\n",
    "prob_clear = 0.72"
   ]
  },
  {
   "cell_type": "markdown",
   "metadata": {},
   "source": [
    "### d. Similarly, calculate the probability of an automatic disengagement per mile on a cloudy day, and the probability of an automatic disengagement per mile on a clear day.\n",
    "Using the axioms of probability we can rearrange the formulas as follows:\n",
    "\n",
    "$$P(auto,dpm|cloudy) = \\frac{{P(auto,dpm,cloudy)}}{{P(cloudy)}} = \\frac{{P(auto,cloudy|dpm)P(dpm)}}{{P(cloudy)}}$$\n",
    "\n",
    "$$P(auto,dpm|clear) = \\frac{{P(auto,dpm,clear)}}{{P(clear)}} = \\frac{{P(auto,clear|dpm)P(dpm)}}{{P(clear)}}$$"
   ]
  },
  {
   "cell_type": "code",
   "execution_count": 23,
   "metadata": {},
   "outputs": [
    {
     "name": "stdout",
     "output_type": "stream",
     "text": [
      "P(auto,dpm|cloudy): 0.0028063653172267287\n",
      "P(auto,dpm|clear): 0.00026390673008345393\n"
     ]
    }
   ],
   "source": [
    "auto = disf['TypeOfTrigger']=='automatic'\n",
    "cloudyauto=(cloudy & auto)\n",
    "likelihood_cloudy=(sum(cloudyauto)/len(disf))\n",
    "prob_dpm_cloudy_auto=likelihood_cloudy*prob_dis/prob_cloudy\n",
    "clearauto=(clear & auto)\n",
    "likelihood_clear=(sum(clearauto) / len(disf))\n",
    "prob_dpm_clear_auto=likelihood_clear*prob_dis/prob_clear\n",
    "print(\"P(auto,dpm|cloudy):\",(prob_dpm_cloudy_auto))\n",
    "print(\"P(auto,dpm|clear):\",(prob_dpm_clear_auto))"
   ]
  },
  {
   "cell_type": "markdown",
   "metadata": {},
   "source": [
    "### e. How likely is it that in 12000 miles, there are 150 or more disengagements under cloudy conditions? [Hint: Think of an appropriate approximation that makes the computation feasible/easier.]\n",
    "We can assume that the distribution is normal. For a normal distribution, we know that\n",
    "            $$\\mu  = np = 12000 \\times P(dpm |cloudy)$$\n",
    "            $${\\sigma ^2} = np(1 - p) = 12000 \\times P(dpm |cloudy)(1 - P(dpm |cloudy))$$\n",
    "            \n",
    "Then we can use mean and std to calculate the z-value which then be used to calculate the p-value.   "
   ]
  },
  {
   "cell_type": "code",
   "execution_count": 24,
   "metadata": {},
   "outputs": [
    {
     "name": "stdout",
     "output_type": "stream",
     "text": [
      "Mean= 70.830681306327\n",
      "Std= 8.391221555200836\n",
      "z-score= 9.43477873547556\n",
      "p-value= 1.9591016830538447e-21\n",
      "Probability of 150 or more disengagements in 12000 miles under cloudy conditions is 1.9591016830538447e-21\n"
     ]
    }
   ],
   "source": [
    "mean = 12000*prob_dpm_cloudy\n",
    "std = np.sqrt(12000*prob_dpm_cloudy*(1-prob_dpm_cloudy))\n",
    "z=(150-mean)/std\n",
    "print('Mean=',mean)\n",
    "print('Std=',std)\n",
    "print('z-score=',z)\n",
    "p_value = st.norm.sf(abs(z))\n",
    "print('p-value=',p_value)\n",
    "print('Probability of 150 or more disengagements in 12000 miles under cloudy conditions is',p_value)"
   ]
  },
  {
   "cell_type": "markdown",
   "metadata": {},
   "source": [
    "## Question 2\n",
    "### Answer the following question about hypothesis testing:\n",
    "### a. What does the normal distribution represent in the hypothesis testing?\n",
    "In Hypothesis testing, the hypothesis tests of a population mean is performed using the normal distribution. It is necessary to generalize the hypothesis test results to a population. Also, the normal test will work if the data come from a simple, random sample and the population is approximately normally distributed, or the sample size is large. Normal Distribution in hypothesis testing basically helps in determining if the sample that has been tested falls in the critical areas. If that's the case, then according to the concept of Hypothesis testing, null hypothesis gets rejected and alternative testing gets considered. The 'two-tailed' test is derived from testing the area under both tails of a normal distribution too. It helps in giving an estimate of what is possible. Assuming a normal distribution also lets us determine how meaningful the result we observe in a study is. For eg: The higher or lower the z-score in Hypothesis testing, the more unlikely the result is to happen by chance and the more likely the result is meaningful."
   ]
  },
  {
   "cell_type": "markdown",
   "metadata": {},
   "source": [
    "### b. Does rejecting the null hypothesis mean accepting the alternative hypothesis?Explain your answer.\n",
    "In the hypothesis testing, both the Ho and Ha are assumed to be two sides of an extreme i.e either having Ho or the Ha probability. If null hypothesis means that there is no variation perhaps the statistical significance in the set of observations considered then rejecting this hypothesis eventually signifies the only other possibility left i.e Ha. "
   ]
  },
  {
   "cell_type": "markdown",
   "metadata": {},
   "source": [
    "## Question 3 \n",
    "### At the 0.05 significance level, test the following hypothesis: The AV has more disengagements (automatic and manual) on cloudy days than clear days. Based on the result of the hypothesis test, what can you conclude about the impact of weather conditions on AV safety?\n",
    "\n",
    "$$\\eqalign{& {H_o}:{\\text{ Number of disengagement in cloudy}  \\leq \\text{ Number of disengagement in clear}}  \\cr \n",
    "  & {H_a}:{\\text{Number of disengagement in cloudy} >  \\text{Number of disengagement in clear}} \\cr} $$"
   ]
  },
  {
   "cell_type": "code",
   "execution_count": 25,
   "metadata": {},
   "outputs": [
    {
     "name": "stdout",
     "output_type": "stream",
     "text": [
      "Count of cloudy  835\n",
      "Count of clear  189\n",
      "z-value 38.1986243877602\n",
      "p-value(approx): 0.0\n"
     ]
    }
   ],
   "source": [
    "from statsmodels.stats.proportion import proportions_ztest\n",
    "count1 = 0\n",
    "count2 = 0\n",
    "i=0\n",
    "while i<len(disf):\n",
    "    if disf.Weather.iloc[i]==\"cloudy\":\n",
    "        count1 = count1+1\n",
    "    if disf.Weather.iloc[i]==\"clear\":\n",
    "        count2 = count2+1\n",
    "    i=i+1\n",
    "print(\"Count of cloudy \",count1)\n",
    "print(\"Count of clear \",count2)\n",
    "counts=[count1,count2]\n",
    "total_dis= milesf['total number of disengagements'].sum()\n",
    "total_miles = milesf['miles driven in autonomous mode'].sum()\n",
    "cloudy_miles = prob_cloudy*total_miles\n",
    "clear_miles = prob_clear*total_miles\n",
    "stat, pval = proportions_ztest(counts, [cloudy_miles, clear_miles],alternative='larger')\n",
    "print('z-value',stat)\n",
    "print('p-value(approx):',pval)"
   ]
  },
  {
   "cell_type": "markdown",
   "metadata": {},
   "source": [
    "Since p-value is low, we can reject the null hypothesis and conclude that the number of disengagements on a cloudy are more."
   ]
  },
  {
   "cell_type": "markdown",
   "metadata": {},
   "source": [
    "## Question 4\n",
    "### What’s the conditional probability that the reaction time is: (Hint, there might be multiple conditions to consider.) \n",
    "### a. Greater than 0.6s given that the weather was cloudy? Reaction time is measured only in cases where there was an automatic disengagement.\n",
    "\n",
    "$P(RT>0.6s|cloudy,automatic)$ = "
   ]
  },
  {
   "cell_type": "code",
   "execution_count": 26,
   "metadata": {},
   "outputs": [
    {
     "name": "stdout",
     "output_type": "stream",
     "text": [
      "P(Reaction Time > 0.6s | Cloudy): 0.473551637279597\n"
     ]
    }
   ],
   "source": [
    "rt=disf['ReactionTime']>0.6\n",
    "prob_reaction_cloudy = sum(cloudyauto & rt )/sum(cloudyauto)\n",
    "print(\"P(Reaction Time > 0.6s | Cloudy):\",prob_reaction_cloudy)"
   ]
  },
  {
   "cell_type": "markdown",
   "metadata": {},
   "source": [
    "### b. What’s the conditional probability that the reaction time is greater than 0.9s given that the weather was clear?\n",
    "$P(RT>0.9s|clear,automatic)$ = \n"
   ]
  },
  {
   "cell_type": "code",
   "execution_count": 27,
   "metadata": {},
   "outputs": [
    {
     "name": "stdout",
     "output_type": "stream",
     "text": [
      "P(Reaction Time > 0.9s | Clear): 0.28125\n"
     ]
    }
   ],
   "source": [
    "prob_reaction09_clear = sum(clearauto & (disf['ReactionTime']>0.9))/sum(clearauto)\n",
    "print(\"P(Reaction Time > 0.9s | Clear):\",prob_reaction09_clear)"
   ]
  },
  {
   "cell_type": "markdown",
   "metadata": {},
   "source": [
    "## Question 5\n",
    "### A study found that an automatic AV disengagement will result in an accident if the human driver is slow in reacting. Following reactions are considered slow: (i) a reaction time greater than 0.6s under cloudy conditions and, (ii) a reaction time greater than 0.9s under clear conditions. Find the probability of an accident per mile involving an AV disengagement.\n",
    "$$P(acc/mile) = P(rt>0.9s|clear, dpm)P(dpm|clear)P(clear) + P(rt>0.6s|cloudy, dpm)P(dpm|cloudy)P(cloudy))$$"
   ]
  },
  {
   "cell_type": "code",
   "execution_count": 28,
   "metadata": {},
   "outputs": [
    {
     "name": "stdout",
     "output_type": "stream",
     "text": [
      "P(acc/mile): 0.0004255496022595695\n"
     ]
    }
   ],
   "source": [
    "prob_reaction_clear = sum(clearauto & (disf['ReactionTime']))/sum(clearauto)\n",
    "prob_reaction = (prob_reaction09_clear * prob_dpm_clear_auto* prob_clear ) + (prob_reaction_cloudy * prob_dpm_cloudy_auto* (1 - prob_clear) )\n",
    "print(\"P(acc/mile):\",prob_reaction)\n"
   ]
  },
  {
   "cell_type": "markdown",
   "metadata": {},
   "source": [
    "## Question 6\n",
    "### The probability of a human driver causing a car accident is 2x10-6 [4]. How do AVs compare to human drivers? Justify your conclusion and explain its consequences."
   ]
  },
  {
   "cell_type": "code",
   "execution_count": 29,
   "metadata": {},
   "outputs": [
    {
     "name": "stdout",
     "output_type": "stream",
     "text": [
      "P(Accident|Human): 2e-06\n",
      "P(Accident|AV): 0.0004255496022595695\n",
      "The probability of a human driver causing car accident is lesser than AVs.\n"
     ]
    }
   ],
   "source": [
    "prob_human = 2e-6\n",
    "print(\"P(Accident|Human):\",prob_human)\n",
    "print(\"P(Accident|AV):\",prob_reaction)\n",
    "if prob_reaction>prob_human:\n",
    "    print(\"The probability of a human driver causing car accident is lesser than AVs.\")\n",
    "elif prob_reaction == prob_human:\n",
    "    print(\"The probability of a human driver causing car accident is same as AVs.\")\n",
    "else:\n",
    "    print(\"The probability of a human driver causing car accident is more than AVs.\")"
   ]
  },
  {
   "cell_type": "markdown",
   "metadata": {},
   "source": [
    "## Question 7\n",
    "### The hypothesis test you performed in this task is an example of a parametric test that assumes that the observed data is distributed similarly to some other well-known distribution (such as a normal distribution). However, sometimes, we need to compare two distributions of data that don’t follow any such well-known distributions. Perform a two-sample Kolmogorov-Smirnov test (using the ks_2samp package from Scipy) to compare the following two distributions: (1) distribution of disengagement reaction time when the weather is cloudy and (2) distribution of disengagement reaction time when the weather is clear. What are your null and alternative hypotheses? Assuming a significance level threshold of 0.1, what can you conclude from the test results about the impact of weather conditions on disengagement reaction time?\n",
    "Null_H: Both distributions are of same type  \n",
    "Alternate_H: The distributions are not same                  "
   ]
  },
  {
   "cell_type": "code",
   "execution_count": 30,
   "metadata": {},
   "outputs": [
    {
     "data": {
      "text/plain": [
       "Ks_2sampResult(statistic=0.05622900923593619, pvalue=0.9534988141679469)"
      ]
     },
     "execution_count": 30,
     "metadata": {},
     "output_type": "execute_result"
    }
   ],
   "source": [
    "from scipy.stats import ks_2samp \n",
    "reaction_cloudy=disf.ReactionTime[disf['Weather']=='cloudy'][disf['TypeOfTrigger']=='automatic']\n",
    "reaction_clear=disf.ReactionTime[disf['Weather']=='clear'][disf['TypeOfTrigger']=='automatic']\n",
    "ks_2samp(reaction_cloudy,reaction_clear)"
   ]
  },
  {
   "cell_type": "markdown",
   "metadata": {},
   "source": [
    "Since the p-value is so high we accept the null hypothesis and conclude that the distributions are similar which signifies that the weather being cloudy or clear has no effect on the reaction time of a person. Also, from the test results obtained, the disengagement reaction time when the weather is clear is more as compared to when the weather is cloudy."
   ]
  },
  {
   "cell_type": "markdown",
   "metadata": {},
   "source": [
    "# Task 3 - Using the Naive Bayes Model\n",
    "## Question 1\n",
    "\n",
    "### Though there are 10 different causes for disengagement, they can be grouped into the following 3 classes – (i) Controller, (ii) Perception System, and (iii) Computer System. The mapping from Disengagement Cause to Class is given in the table below. You will use these 3 classes as the labels in the NB model. Modify your pandas data frame to include a ‘Class’ column."
   ]
  },
  {
   "cell_type": "code",
   "execution_count": 33,
   "metadata": {},
   "outputs": [],
   "source": [
    "# replace the cause values with corresponding class label\n",
    "\n",
    "disf['Class'] = disf['Cause']\n",
    "disf['Class'].replace(['Incorrect behavior prediction of others','Recklessly behaving agent','Unwanted Driver Discomfort'],'Controller',inplace=True)\n",
    "disf['Class'].replace(['Adverse road surface conditions','Emergency Vehicle','Position Estimation Failure','Incorrect Traffic Light Detection'],'Perception System',inplace=True)\n",
    "disf['Class'].replace(['System Tuning and Calibration','Hardware Fault','Software Froze'],'Computer System',inplace=True)\n",
    "disf.head()\n"
   ]
  },
  {
   "cell_type": "code",
   "execution_count": 37,
   "metadata": {},
   "outputs": [],
   "source": [
    "def get_values(data):\n",
    "    colname = data.columns\n",
    "    c_label = data[colname[-1]].unique()\n",
    "    f_name  = colname[:-1]\n",
    "    # create a dict of categorical values for each feature\n",
    "    f_values = {}\n",
    "    for f in f_name:\n",
    "        f_values[f] = data[f].unique()\n",
    "        \n",
    "    return c_label,f_name,f_values\n",
    "c_label,f_name,f_values = get_values(disf[['Location','Weather','TypeOfTrigger','Class']])\n",
    "data = disf[['Location','Weather','TypeOfTrigger','Class']].values"
   ]
  },
  {
   "cell_type": "markdown",
   "metadata": {},
   "source": [
    "## Question 2\n",
    "### Split the data randomly into training and testing (80-20 split). Use the fields ‘Location’, ‘Weather’, and ‘TypeOfTrigger’ as features and use ‘Class’ as assigned in the previous question as the label."
   ]
  },
  {
   "cell_type": "code",
   "execution_count": 38,
   "metadata": {},
   "outputs": [
    {
     "name": "stdout",
     "output_type": "stream",
     "text": [
      "Size of Train Data: 819\n",
      "Size of Test Data: 205\n"
     ]
    }
   ],
   "source": [
    "# function that splits dataset into train and test data\n",
    "def split(data,train_ratio):\n",
    "    k = int(len(data) * train_ratio)\n",
    "    # randomly shuffle the dataset\n",
    "    np.random.shuffle(data)\n",
    "    train, test = data[:k,:], data[k:,:]\n",
    "    return train, test\n",
    "train, test = split(data,0.8)\n",
    "print(\"Size of Train Data: {0}\".format(len(train)))\n",
    "print(\"Size of Test Data: {0}\".format(len(test)))"
   ]
  },
  {
   "cell_type": "markdown",
   "metadata": {},
   "source": [
    "## Question 3\n",
    "### Using the training dataset, create a NB model to identify the cause of disengagement based on the features ‘Location’, ‘Weather’, and ‘TypeOfTrigger’. Show the conditional probability tables from the training dataset."
   ]
  },
  {
   "cell_type": "code",
   "execution_count": 45,
   "metadata": {},
   "outputs": [
    {
     "data": {
      "text/plain": [
       "{'Perception System': 0.3516483516483517,\n",
       " 'Computer System': 0.3064713064713065,\n",
       " 'Controller': 0.3418803418803419}"
      ]
     },
     "execution_count": 45,
     "metadata": {},
     "output_type": "execute_result"
    }
   ],
   "source": [
    "# function accepts the data values in the form of a list.\n",
    "\n",
    "def train_NB(data,c_label,f_name,f_values):\n",
    "    \n",
    "    c_prob = {}\n",
    "    f_prob = {}\n",
    "    N = len(data)\n",
    "    for label in c_label:\n",
    "        # separate data values for class label\n",
    "        separated   = data[data[:,-1]==label]\n",
    "        Ns = len(separated)\n",
    "        # calculate class probability\n",
    "        c_prob[label] = Ns/N\n",
    "        temp2 = {}\n",
    "        for i, f in enumerate(f_name): # repeate the procedure for each feature\n",
    "            # create a temporary dictionary\n",
    "            temp1 = {}\n",
    "            for val in f_values[f]:\n",
    "                # calculate conditional probability\n",
    "                #temp1[val] = sum(separated[f]==val)/Ns\n",
    "                temp1[val] = round(sum(separated[:,i]==val)/Ns,4)  \n",
    "            temp2[f]=temp1\n",
    "        f_prob[label]=temp2\n",
    "    # return a dict containing individual class probabilities\n",
    "    # return a dict containing conditional probabilities of each categorical value\n",
    "    return c_prob,f_prob\n",
    "c_prob,f_prob = train_NB(train,c_label,f_name,f_values)\n",
    "c_prob\n",
    "\n"
   ]
  },
  {
   "cell_type": "code",
   "execution_count": 46,
   "metadata": {},
   "outputs": [
    {
     "data": {
      "text/html": [
       "<div>\n",
       "<style scoped>\n",
       "    .dataframe tbody tr th:only-of-type {\n",
       "        vertical-align: middle;\n",
       "    }\n",
       "\n",
       "    .dataframe tbody tr th {\n",
       "        vertical-align: top;\n",
       "    }\n",
       "\n",
       "    .dataframe thead th {\n",
       "        text-align: right;\n",
       "    }\n",
       "</style>\n",
       "<table border=\"1\" class=\"dataframe\">\n",
       "  <thead>\n",
       "    <tr style=\"text-align: right;\">\n",
       "      <th></th>\n",
       "      <th>Perception System</th>\n",
       "      <th>Computer System</th>\n",
       "      <th>Controller</th>\n",
       "    </tr>\n",
       "  </thead>\n",
       "  <tbody>\n",
       "    <tr>\n",
       "      <th>Location</th>\n",
       "      <td>{1: 1.0, 0: 0.0}</td>\n",
       "      <td>{1: 0.9363, 0: 0.0637}</td>\n",
       "      <td>{1: 1.0, 0: 0.0}</td>\n",
       "    </tr>\n",
       "    <tr>\n",
       "      <th>Weather</th>\n",
       "      <td>{1: 1.0, 0: 0.0}</td>\n",
       "      <td>{1: 0.3785, 0: 0.6215}</td>\n",
       "      <td>{1: 1.0, 0: 0.0}</td>\n",
       "    </tr>\n",
       "    <tr>\n",
       "      <th>TypeOfTrigger</th>\n",
       "      <td>{0: 0.8299, 1: 0.1701}</td>\n",
       "      <td>{0: 0.494, 1: 0.506}</td>\n",
       "      <td>{0: 0.1464, 1: 0.8536}</td>\n",
       "    </tr>\n",
       "  </tbody>\n",
       "</table>\n",
       "</div>"
      ],
      "text/plain": [
       "                    Perception System         Computer System  \\\n",
       "Location             {1: 1.0, 0: 0.0}  {1: 0.9363, 0: 0.0637}   \n",
       "Weather              {1: 1.0, 0: 0.0}  {1: 0.3785, 0: 0.6215}   \n",
       "TypeOfTrigger  {0: 0.8299, 1: 0.1701}    {0: 0.494, 1: 0.506}   \n",
       "\n",
       "                           Controller  \n",
       "Location             {1: 1.0, 0: 0.0}  \n",
       "Weather              {1: 1.0, 0: 0.0}  \n",
       "TypeOfTrigger  {0: 0.1464, 1: 0.8536}  "
      ]
     },
     "execution_count": 46,
     "metadata": {},
     "output_type": "execute_result"
    }
   ],
   "source": [
    "pd.DataFrame(f_prob)"
   ]
  },
  {
   "cell_type": "markdown",
   "metadata": {},
   "source": [
    "## Question 4\n",
    "### Using the model to predict the cause of the disengagement for the test dataset. Compute the accuracy achieved by your model."
   ]
  },
  {
   "cell_type": "code",
   "execution_count": 47,
   "metadata": {},
   "outputs": [],
   "source": [
    "def NB_pred(data,c_prob,f_prob,c_label,f_name,f_values):\n",
    "    pred = []\n",
    "    for row in data:  \n",
    "        score = {}\n",
    "        # calculate conditional probability for each class\n",
    "        for c in c_label:\n",
    "            CP = 1\n",
    "            # calculate probability using Bayes Rule assuming that features are independent\n",
    "            for i,f in enumerate(f_name):\n",
    "                CP = CP*f_prob[c][f][row[i]]\n",
    "            score[c]= CP*c_prob[c]\n",
    "        # use MAP rule to get class label\n",
    "        # select the class with maximum probability\n",
    "        pred.append(max(score, key=score.get))\n",
    "    return pred\n",
    "\n",
    "# function that calculates accuracy of a model given the predictions\n",
    "def get_accuracy(true,pred):\n",
    "    accuracy = round(sum(true==pred)/len(true),4)\n",
    "    return accuracy"
   ]
  },
  {
   "cell_type": "code",
   "execution_count": 48,
   "metadata": {},
   "outputs": [
    {
     "name": "stdout",
     "output_type": "stream",
     "text": [
      "Accuracy: 0.8146\n"
     ]
    }
   ],
   "source": [
    "pred = NB_pred(test,c_prob,f_prob,c_label,f_name,f_values)\n",
    "accuracy = get_accuracy(test[:,-1], pred)\n",
    "print(\"Accuracy: {0}\".format(accuracy))"
   ]
  },
  {
   "cell_type": "markdown",
   "metadata": {},
   "source": [
    "## Question 5\n",
    "### To get a better estimate of the model performance, perform cross-validation. Repeat sub-questions 2, 3 and 4 five times for different splits of training and test data, and report the average accuracy."
   ]
  },
  {
   "cell_type": "code",
   "execution_count": 49,
   "metadata": {},
   "outputs": [
    {
     "name": "stdout",
     "output_type": "stream",
     "text": [
      "Accuracy List: [0.8146, 0.8195, 0.7707, 0.8049, 0.7902, 0.7902, 0.7756, 0.7659, 0.8195, 0.7512]\n",
      "Average Accuracy: 0.7902\n"
     ]
    }
   ],
   "source": [
    "accuracy = []\n",
    "for i in range(10):\n",
    "    train, test = split(data, train_ratio=0.8)\n",
    "    c_prob,f_prob = train_NB(train,c_label,f_name,f_values)\n",
    "    pred = NB_pred(test,c_prob,f_prob,c_label,f_name,f_values)\n",
    "    acc = get_accuracy(test[:,-1], pred)\n",
    "    accuracy.append(acc)\n",
    "avg_acc = round(np.mean(accuracy),4)\n",
    "print(\"Accuracy List: {0}\".format(accuracy))\n",
    "print(\"Average Accuracy: {0}\".format(avg_acc))"
   ]
  }
 ],
 "metadata": {
  "kernelspec": {
   "display_name": "Python 3",
   "language": "python",
   "name": "python3"
  },
  "language_info": {
   "codemirror_mode": {
    "name": "ipython",
    "version": 3
   },
   "file_extension": ".py",
   "mimetype": "text/x-python",
   "name": "python",
   "nbconvert_exporter": "python",
   "pygments_lexer": "ipython3",
   "version": "3.6.5"
  }
 },
 "nbformat": 4,
 "nbformat_minor": 2
}
